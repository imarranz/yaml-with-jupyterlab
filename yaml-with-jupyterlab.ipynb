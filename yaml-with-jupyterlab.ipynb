{
 "cells": [
  {
   "cell_type": "markdown",
   "metadata": {},
   "source": [
    "# How to use YAML"
   ]
  },
  {
   "cell_type": "markdown",
   "metadata": {
    "tags": []
   },
   "source": [
    "## Sources"
   ]
  },
  {
   "cell_type": "markdown",
   "metadata": {
    "tags": []
   },
   "source": [
    "[reading and writing YAML](https://stackabuse.com/reading-and-writing-yaml-to-a-file-in-python/)  \n",
    "[writing YAML files](https://towardsdatascience.com/writing-yaml-files-with-python-a6a7fc6ed6c3)  \n",
    "[YAML tutorial](https://www.cloudbees.com/blog/yaml-tutorial-everything-you-need-get-started)  \n",
    "[Using YAML in python for structured data](https://kitchingroup.cheme.cmu.edu/blog/2014/02/03/Using-YAML-in-python-for-structured-data/)  "
   ]
  },
  {
   "cell_type": "code",
   "execution_count": 1,
   "metadata": {
    "tags": [
     "hide-input"
    ]
   },
   "outputs": [],
   "source": [
    "import pandas as pd\n",
    "import yaml"
   ]
  },
  {
   "cell_type": "markdown",
   "metadata": {
    "tags": []
   },
   "source": [
    "## Config"
   ]
  },
  {
   "cell_type": "markdown",
   "metadata": {},
   "source": [
    "The content of YAML file is the following code."
   ]
  },
  {
   "cell_type": "markdown",
   "metadata": {},
   "source": [
    "```\n",
    "name_file: 'https://raw.githubusercontent.com/mwaskom/seaborn-data/master/tips.csv'\n",
    "\n",
    "rename_day:\n",
    " Thur: Thursday\n",
    " Fri: Friday\n",
    " Sat: Saturday\n",
    " Sun: Sunday\n",
    "    \n",
    "a_list:\n",
    " - Monday\n",
    " - Tuesday\n",
    " - Wednesday\n",
    " - Thursday\n",
    " - Friday\n",
    " - Saturday\n",
    " - Sunday\n",
    " \n",
    "a_dictionary:\n",
    "  Mon: Monday\n",
    "  Tue: Tuesday\n",
    "  Wed: Wednesday\n",
    "  Thu: Thursday\n",
    "  Fri: Friday\n",
    "  Sat: Saturday\n",
    "  Sun: Sunday\n",
    "  \n",
    "customers:\n",
    "  customer_a:\n",
    "    time: Dinner\n",
    "    day: \n",
    "      - Thursday\n",
    "      - Friday\n",
    "  customer_b:\n",
    "    time: Lunch\n",
    "    day: \n",
    "      - Thursday\n",
    "      - Friday  \n",
    "  customer_c:\n",
    "    time: Dinner\n",
    "    day: \n",
    "      - Saturday\n",
    "      - Sunday\n",
    "  customer_d:\n",
    "    time: Lunch\n",
    "    day: \n",
    "      - Saturday\n",
    "      - Sunday        \n",
    " \n",
    "set_table_styles:\n",
    "  hover:\n",
    "    selector: 'tr:hover'\n",
    "    props: [['background-color', 'black'], ['color', 'white']]\n",
    "  nth-of-type(odd):\n",
    "    selector: 'tr:nth-of-type(odd)'\n",
    "    props: [['background', '#bbb']]\n",
    "  nth-of-type(even):\n",
    "    selector: 'tr:nth-of-type(even)'\n",
    "    props: [['background', 'white']]\n",
    "  th:\n",
    "    selector: 'th'\n",
    "    props: [['background', '#606060'], ['color', 'white'] , ['font-family', 'verdana'], ['font-size', '1.1em']]\n",
    "  td:\n",
    "    selector: 'td'\n",
    "    props: [['font-family', 'verdana'], ['font-size', '0.9em']]\n",
    "```    "
   ]
  },
  {
   "cell_type": "code",
   "execution_count": 2,
   "metadata": {},
   "outputs": [],
   "source": [
    "with open('./yaml/config.yaml', 'r') as ymlfile:\n",
    "    cfg = yaml.full_load(ymlfile)"
   ]
  },
  {
   "cell_type": "markdown",
   "metadata": {},
   "source": [
    "A numeric variable"
   ]
  },
  {
   "cell_type": "code",
   "execution_count": 3,
   "metadata": {},
   "outputs": [
    {
     "data": {
      "text/plain": [
       "23.45"
      ]
     },
     "execution_count": 3,
     "metadata": {},
     "output_type": "execute_result"
    }
   ],
   "source": [
    "cfg['a_value']"
   ]
  },
  {
   "cell_type": "markdown",
   "metadata": {},
   "source": [
    "A text variable"
   ]
  },
  {
   "cell_type": "code",
   "execution_count": 4,
   "metadata": {},
   "outputs": [
    {
     "data": {
      "text/plain": [
       "'https://raw.githubusercontent.com/mwaskom/seaborn-data/master/tips.csv'"
      ]
     },
     "execution_count": 4,
     "metadata": {},
     "output_type": "execute_result"
    }
   ],
   "source": [
    "cfg['name_file']"
   ]
  },
  {
   "cell_type": "markdown",
   "metadata": {},
   "source": [
    "A list"
   ]
  },
  {
   "cell_type": "code",
   "execution_count": 5,
   "metadata": {},
   "outputs": [
    {
     "data": {
      "text/plain": [
       "['Monday', 'Tuesday', 'Wednesday', 'Thursday', 'Friday', 'Saturday', 'Sunday']"
      ]
     },
     "execution_count": 5,
     "metadata": {},
     "output_type": "execute_result"
    }
   ],
   "source": [
    "cfg['a_list']"
   ]
  },
  {
   "cell_type": "markdown",
   "metadata": {},
   "source": [
    "A dictionary"
   ]
  },
  {
   "cell_type": "code",
   "execution_count": 6,
   "metadata": {},
   "outputs": [
    {
     "data": {
      "text/plain": [
       "{'Mon': 'Monday',\n",
       " 'Tue': 'Tuesday',\n",
       " 'Wed': 'Wednesday',\n",
       " 'Thu': 'Thursday',\n",
       " 'Fri': 'Friday',\n",
       " 'Sat': 'Saturday',\n",
       " 'Sun': 'Sunday'}"
      ]
     },
     "execution_count": 6,
     "metadata": {},
     "output_type": "execute_result"
    }
   ],
   "source": [
    "cfg['a_dictionary']"
   ]
  },
  {
   "cell_type": "markdown",
   "metadata": {},
   "source": [
    "A complex structure"
   ]
  },
  {
   "cell_type": "code",
   "execution_count": 7,
   "metadata": {},
   "outputs": [
    {
     "data": {
      "text/plain": [
       "{'customer_a': {'time': 'Dinner', 'day': ['Thursday', 'Friday']},\n",
       " 'customer_b': {'time': 'Lunch', 'day': ['Thursday', 'Friday']},\n",
       " 'customer_c': {'time': 'Dinner', 'day': ['Saturday', 'Sunday']},\n",
       " 'customer_d': {'time': 'Lunch', 'day': ['Saturday', 'Sunday']}}"
      ]
     },
     "execution_count": 7,
     "metadata": {},
     "output_type": "execute_result"
    }
   ],
   "source": [
    "cfg['customers']"
   ]
  },
  {
   "cell_type": "markdown",
   "metadata": {
    "tags": []
   },
   "source": [
    "## Data import"
   ]
  },
  {
   "cell_type": "markdown",
   "metadata": {},
   "source": [
    "Data import with configurations."
   ]
  },
  {
   "cell_type": "code",
   "execution_count": 8,
   "metadata": {},
   "outputs": [],
   "source": [
    "data = \\\n",
    "pd\\\n",
    "    .read_csv(cfg['name_file'])\\\n",
    "    .replace({'day': cfg['rename_day']})"
   ]
  },
  {
   "cell_type": "code",
   "execution_count": 9,
   "metadata": {},
   "outputs": [
    {
     "data": {
      "text/html": [
       "<div>\n",
       "<style scoped>\n",
       "    .dataframe tbody tr th:only-of-type {\n",
       "        vertical-align: middle;\n",
       "    }\n",
       "\n",
       "    .dataframe tbody tr th {\n",
       "        vertical-align: top;\n",
       "    }\n",
       "\n",
       "    .dataframe thead th {\n",
       "        text-align: right;\n",
       "    }\n",
       "</style>\n",
       "<table border=\"1\" class=\"dataframe\">\n",
       "  <thead>\n",
       "    <tr style=\"text-align: right;\">\n",
       "      <th></th>\n",
       "      <th>total_bill</th>\n",
       "      <th>tip</th>\n",
       "      <th>sex</th>\n",
       "      <th>smoker</th>\n",
       "      <th>day</th>\n",
       "      <th>time</th>\n",
       "      <th>size</th>\n",
       "    </tr>\n",
       "  </thead>\n",
       "  <tbody>\n",
       "    <tr>\n",
       "      <th>0</th>\n",
       "      <td>16.99</td>\n",
       "      <td>1.01</td>\n",
       "      <td>Female</td>\n",
       "      <td>No</td>\n",
       "      <td>Sunday</td>\n",
       "      <td>Dinner</td>\n",
       "      <td>2</td>\n",
       "    </tr>\n",
       "    <tr>\n",
       "      <th>1</th>\n",
       "      <td>10.34</td>\n",
       "      <td>1.66</td>\n",
       "      <td>Male</td>\n",
       "      <td>No</td>\n",
       "      <td>Sunday</td>\n",
       "      <td>Dinner</td>\n",
       "      <td>3</td>\n",
       "    </tr>\n",
       "    <tr>\n",
       "      <th>2</th>\n",
       "      <td>21.01</td>\n",
       "      <td>3.50</td>\n",
       "      <td>Male</td>\n",
       "      <td>No</td>\n",
       "      <td>Sunday</td>\n",
       "      <td>Dinner</td>\n",
       "      <td>3</td>\n",
       "    </tr>\n",
       "    <tr>\n",
       "      <th>3</th>\n",
       "      <td>23.68</td>\n",
       "      <td>3.31</td>\n",
       "      <td>Male</td>\n",
       "      <td>No</td>\n",
       "      <td>Sunday</td>\n",
       "      <td>Dinner</td>\n",
       "      <td>2</td>\n",
       "    </tr>\n",
       "    <tr>\n",
       "      <th>4</th>\n",
       "      <td>24.59</td>\n",
       "      <td>3.61</td>\n",
       "      <td>Female</td>\n",
       "      <td>No</td>\n",
       "      <td>Sunday</td>\n",
       "      <td>Dinner</td>\n",
       "      <td>4</td>\n",
       "    </tr>\n",
       "    <tr>\n",
       "      <th>...</th>\n",
       "      <td>...</td>\n",
       "      <td>...</td>\n",
       "      <td>...</td>\n",
       "      <td>...</td>\n",
       "      <td>...</td>\n",
       "      <td>...</td>\n",
       "      <td>...</td>\n",
       "    </tr>\n",
       "    <tr>\n",
       "      <th>239</th>\n",
       "      <td>29.03</td>\n",
       "      <td>5.92</td>\n",
       "      <td>Male</td>\n",
       "      <td>No</td>\n",
       "      <td>Saturday</td>\n",
       "      <td>Dinner</td>\n",
       "      <td>3</td>\n",
       "    </tr>\n",
       "    <tr>\n",
       "      <th>240</th>\n",
       "      <td>27.18</td>\n",
       "      <td>2.00</td>\n",
       "      <td>Female</td>\n",
       "      <td>Yes</td>\n",
       "      <td>Saturday</td>\n",
       "      <td>Dinner</td>\n",
       "      <td>2</td>\n",
       "    </tr>\n",
       "    <tr>\n",
       "      <th>241</th>\n",
       "      <td>22.67</td>\n",
       "      <td>2.00</td>\n",
       "      <td>Male</td>\n",
       "      <td>Yes</td>\n",
       "      <td>Saturday</td>\n",
       "      <td>Dinner</td>\n",
       "      <td>2</td>\n",
       "    </tr>\n",
       "    <tr>\n",
       "      <th>242</th>\n",
       "      <td>17.82</td>\n",
       "      <td>1.75</td>\n",
       "      <td>Male</td>\n",
       "      <td>No</td>\n",
       "      <td>Saturday</td>\n",
       "      <td>Dinner</td>\n",
       "      <td>2</td>\n",
       "    </tr>\n",
       "    <tr>\n",
       "      <th>243</th>\n",
       "      <td>18.78</td>\n",
       "      <td>3.00</td>\n",
       "      <td>Female</td>\n",
       "      <td>No</td>\n",
       "      <td>Thursday</td>\n",
       "      <td>Dinner</td>\n",
       "      <td>2</td>\n",
       "    </tr>\n",
       "  </tbody>\n",
       "</table>\n",
       "<p>244 rows × 7 columns</p>\n",
       "</div>"
      ],
      "text/plain": [
       "     total_bill   tip     sex smoker       day    time  size\n",
       "0         16.99  1.01  Female     No    Sunday  Dinner     2\n",
       "1         10.34  1.66    Male     No    Sunday  Dinner     3\n",
       "2         21.01  3.50    Male     No    Sunday  Dinner     3\n",
       "3         23.68  3.31    Male     No    Sunday  Dinner     2\n",
       "4         24.59  3.61  Female     No    Sunday  Dinner     4\n",
       "..          ...   ...     ...    ...       ...     ...   ...\n",
       "239       29.03  5.92    Male     No  Saturday  Dinner     3\n",
       "240       27.18  2.00  Female    Yes  Saturday  Dinner     2\n",
       "241       22.67  2.00    Male    Yes  Saturday  Dinner     2\n",
       "242       17.82  1.75    Male     No  Saturday  Dinner     2\n",
       "243       18.78  3.00  Female     No  Thursday  Dinner     2\n",
       "\n",
       "[244 rows x 7 columns]"
      ]
     },
     "execution_count": 9,
     "metadata": {},
     "output_type": "execute_result"
    }
   ],
   "source": [
    "data"
   ]
  },
  {
   "cell_type": "markdown",
   "metadata": {},
   "source": [
    "## Data Show"
   ]
  },
  {
   "cell_type": "markdown",
   "metadata": {},
   "source": [
    "Table with styles from yaml file."
   ]
  },
  {
   "cell_type": "code",
   "execution_count": 10,
   "metadata": {},
   "outputs": [
    {
     "data": {
      "text/html": [
       "<style type=\"text/css\">\n",
       "#T_be4e1_ tr:nth-of-type(odd) {\n",
       "  background: #bbb;\n",
       "}\n",
       "#T_be4e1_ tr:nth-of-type(even) {\n",
       "  background: white;\n",
       "}\n",
       "#T_be4e1_ th {\n",
       "  background: #606060;\n",
       "  color: white;\n",
       "  font-family: verdana;\n",
       "  font-size: 1.1em;\n",
       "}\n",
       "#T_be4e1_ td {\n",
       "  font-family: verdana;\n",
       "  font-size: 0.9em;\n",
       "}\n",
       "#T_be4e1_ tr:hover {\n",
       "  background-color: black;\n",
       "  color: white;\n",
       "}\n",
       "</style>\n",
       "<table id=\"T_be4e1_\">\n",
       "  <thead>\n",
       "    <tr>\n",
       "      <th class=\"col_heading level0 col0\" >total_bill</th>\n",
       "      <th class=\"col_heading level0 col1\" >tip</th>\n",
       "      <th class=\"col_heading level0 col2\" >sex</th>\n",
       "      <th class=\"col_heading level0 col3\" >smoker</th>\n",
       "      <th class=\"col_heading level0 col4\" >day</th>\n",
       "      <th class=\"col_heading level0 col5\" >time</th>\n",
       "      <th class=\"col_heading level0 col6\" >size</th>\n",
       "    </tr>\n",
       "  </thead>\n",
       "  <tbody>\n",
       "    <tr>\n",
       "      <td id=\"T_be4e1_row0_col0\" class=\"data row0 col0\" >16.990000</td>\n",
       "      <td id=\"T_be4e1_row0_col1\" class=\"data row0 col1\" >1.010000</td>\n",
       "      <td id=\"T_be4e1_row0_col2\" class=\"data row0 col2\" >Female</td>\n",
       "      <td id=\"T_be4e1_row0_col3\" class=\"data row0 col3\" >No</td>\n",
       "      <td id=\"T_be4e1_row0_col4\" class=\"data row0 col4\" >Sunday</td>\n",
       "      <td id=\"T_be4e1_row0_col5\" class=\"data row0 col5\" >Dinner</td>\n",
       "      <td id=\"T_be4e1_row0_col6\" class=\"data row0 col6\" >2</td>\n",
       "    </tr>\n",
       "    <tr>\n",
       "      <td id=\"T_be4e1_row1_col0\" class=\"data row1 col0\" >10.340000</td>\n",
       "      <td id=\"T_be4e1_row1_col1\" class=\"data row1 col1\" >1.660000</td>\n",
       "      <td id=\"T_be4e1_row1_col2\" class=\"data row1 col2\" >Male</td>\n",
       "      <td id=\"T_be4e1_row1_col3\" class=\"data row1 col3\" >No</td>\n",
       "      <td id=\"T_be4e1_row1_col4\" class=\"data row1 col4\" >Sunday</td>\n",
       "      <td id=\"T_be4e1_row1_col5\" class=\"data row1 col5\" >Dinner</td>\n",
       "      <td id=\"T_be4e1_row1_col6\" class=\"data row1 col6\" >3</td>\n",
       "    </tr>\n",
       "    <tr>\n",
       "      <td id=\"T_be4e1_row2_col0\" class=\"data row2 col0\" >21.010000</td>\n",
       "      <td id=\"T_be4e1_row2_col1\" class=\"data row2 col1\" >3.500000</td>\n",
       "      <td id=\"T_be4e1_row2_col2\" class=\"data row2 col2\" >Male</td>\n",
       "      <td id=\"T_be4e1_row2_col3\" class=\"data row2 col3\" >No</td>\n",
       "      <td id=\"T_be4e1_row2_col4\" class=\"data row2 col4\" >Sunday</td>\n",
       "      <td id=\"T_be4e1_row2_col5\" class=\"data row2 col5\" >Dinner</td>\n",
       "      <td id=\"T_be4e1_row2_col6\" class=\"data row2 col6\" >3</td>\n",
       "    </tr>\n",
       "    <tr>\n",
       "      <td id=\"T_be4e1_row3_col0\" class=\"data row3 col0\" >23.680000</td>\n",
       "      <td id=\"T_be4e1_row3_col1\" class=\"data row3 col1\" >3.310000</td>\n",
       "      <td id=\"T_be4e1_row3_col2\" class=\"data row3 col2\" >Male</td>\n",
       "      <td id=\"T_be4e1_row3_col3\" class=\"data row3 col3\" >No</td>\n",
       "      <td id=\"T_be4e1_row3_col4\" class=\"data row3 col4\" >Sunday</td>\n",
       "      <td id=\"T_be4e1_row3_col5\" class=\"data row3 col5\" >Dinner</td>\n",
       "      <td id=\"T_be4e1_row3_col6\" class=\"data row3 col6\" >2</td>\n",
       "    </tr>\n",
       "    <tr>\n",
       "      <td id=\"T_be4e1_row4_col0\" class=\"data row4 col0\" >24.590000</td>\n",
       "      <td id=\"T_be4e1_row4_col1\" class=\"data row4 col1\" >3.610000</td>\n",
       "      <td id=\"T_be4e1_row4_col2\" class=\"data row4 col2\" >Female</td>\n",
       "      <td id=\"T_be4e1_row4_col3\" class=\"data row4 col3\" >No</td>\n",
       "      <td id=\"T_be4e1_row4_col4\" class=\"data row4 col4\" >Sunday</td>\n",
       "      <td id=\"T_be4e1_row4_col5\" class=\"data row4 col5\" >Dinner</td>\n",
       "      <td id=\"T_be4e1_row4_col6\" class=\"data row4 col6\" >4</td>\n",
       "    </tr>\n",
       "  </tbody>\n",
       "</table>\n"
      ],
      "text/plain": [
       "<pandas.io.formats.style.Styler at 0x9b68588>"
      ]
     },
     "execution_count": 10,
     "metadata": {},
     "output_type": "execute_result"
    }
   ],
   "source": [
    "data\\\n",
    "    .head(5)\\\n",
    "    .style\\\n",
    "        .set_table_styles(\n",
    "            [cfg['set_table_styles']['nth-of-type(odd)'],\n",
    "             cfg['set_table_styles']['nth-of-type(even)'],\n",
    "             cfg['set_table_styles']['th'],\n",
    "             cfg['set_table_styles']['td'],\n",
    "             cfg['set_table_styles']['hover']])\\\n",
    "        .hide_index()"
   ]
  },
  {
   "cell_type": "code",
   "execution_count": 11,
   "metadata": {},
   "outputs": [],
   "source": [
    "cfg_tables = \\\n",
    "[cfg['set_table_styles']['nth-of-type(odd)'],\n",
    " cfg['set_table_styles']['nth-of-type(even)'],\n",
    " cfg['set_table_styles']['th'],\n",
    " cfg['set_table_styles']['td'],\n",
    " cfg['set_table_styles']['hover']]"
   ]
  },
  {
   "cell_type": "code",
   "execution_count": 12,
   "metadata": {},
   "outputs": [
    {
     "data": {
      "text/html": [
       "<style type=\"text/css\">\n",
       "#T_5c92e_ tr:nth-of-type(odd) {\n",
       "  background: #bbb;\n",
       "}\n",
       "#T_5c92e_ tr:nth-of-type(even) {\n",
       "  background: white;\n",
       "}\n",
       "#T_5c92e_ th {\n",
       "  background: #606060;\n",
       "  color: white;\n",
       "  font-family: verdana;\n",
       "  font-size: 1.1em;\n",
       "}\n",
       "#T_5c92e_ td {\n",
       "  font-family: verdana;\n",
       "  font-size: 0.9em;\n",
       "}\n",
       "#T_5c92e_ tr:hover {\n",
       "  background-color: black;\n",
       "  color: white;\n",
       "}\n",
       "</style>\n",
       "<table id=\"T_5c92e_\">\n",
       "  <thead>\n",
       "    <tr>\n",
       "      <th class=\"col_heading level0 col0\" >total_bill</th>\n",
       "      <th class=\"col_heading level0 col1\" >tip</th>\n",
       "      <th class=\"col_heading level0 col2\" >sex</th>\n",
       "      <th class=\"col_heading level0 col3\" >smoker</th>\n",
       "      <th class=\"col_heading level0 col4\" >day</th>\n",
       "      <th class=\"col_heading level0 col5\" >time</th>\n",
       "      <th class=\"col_heading level0 col6\" >size</th>\n",
       "    </tr>\n",
       "  </thead>\n",
       "  <tbody>\n",
       "    <tr>\n",
       "      <td id=\"T_5c92e_row0_col0\" class=\"data row0 col0\" >16.990000</td>\n",
       "      <td id=\"T_5c92e_row0_col1\" class=\"data row0 col1\" >1.010000</td>\n",
       "      <td id=\"T_5c92e_row0_col2\" class=\"data row0 col2\" >Female</td>\n",
       "      <td id=\"T_5c92e_row0_col3\" class=\"data row0 col3\" >No</td>\n",
       "      <td id=\"T_5c92e_row0_col4\" class=\"data row0 col4\" >Sunday</td>\n",
       "      <td id=\"T_5c92e_row0_col5\" class=\"data row0 col5\" >Dinner</td>\n",
       "      <td id=\"T_5c92e_row0_col6\" class=\"data row0 col6\" >2</td>\n",
       "    </tr>\n",
       "    <tr>\n",
       "      <td id=\"T_5c92e_row1_col0\" class=\"data row1 col0\" >10.340000</td>\n",
       "      <td id=\"T_5c92e_row1_col1\" class=\"data row1 col1\" >1.660000</td>\n",
       "      <td id=\"T_5c92e_row1_col2\" class=\"data row1 col2\" >Male</td>\n",
       "      <td id=\"T_5c92e_row1_col3\" class=\"data row1 col3\" >No</td>\n",
       "      <td id=\"T_5c92e_row1_col4\" class=\"data row1 col4\" >Sunday</td>\n",
       "      <td id=\"T_5c92e_row1_col5\" class=\"data row1 col5\" >Dinner</td>\n",
       "      <td id=\"T_5c92e_row1_col6\" class=\"data row1 col6\" >3</td>\n",
       "    </tr>\n",
       "    <tr>\n",
       "      <td id=\"T_5c92e_row2_col0\" class=\"data row2 col0\" >21.010000</td>\n",
       "      <td id=\"T_5c92e_row2_col1\" class=\"data row2 col1\" >3.500000</td>\n",
       "      <td id=\"T_5c92e_row2_col2\" class=\"data row2 col2\" >Male</td>\n",
       "      <td id=\"T_5c92e_row2_col3\" class=\"data row2 col3\" >No</td>\n",
       "      <td id=\"T_5c92e_row2_col4\" class=\"data row2 col4\" >Sunday</td>\n",
       "      <td id=\"T_5c92e_row2_col5\" class=\"data row2 col5\" >Dinner</td>\n",
       "      <td id=\"T_5c92e_row2_col6\" class=\"data row2 col6\" >3</td>\n",
       "    </tr>\n",
       "    <tr>\n",
       "      <td id=\"T_5c92e_row3_col0\" class=\"data row3 col0\" >23.680000</td>\n",
       "      <td id=\"T_5c92e_row3_col1\" class=\"data row3 col1\" >3.310000</td>\n",
       "      <td id=\"T_5c92e_row3_col2\" class=\"data row3 col2\" >Male</td>\n",
       "      <td id=\"T_5c92e_row3_col3\" class=\"data row3 col3\" >No</td>\n",
       "      <td id=\"T_5c92e_row3_col4\" class=\"data row3 col4\" >Sunday</td>\n",
       "      <td id=\"T_5c92e_row3_col5\" class=\"data row3 col5\" >Dinner</td>\n",
       "      <td id=\"T_5c92e_row3_col6\" class=\"data row3 col6\" >2</td>\n",
       "    </tr>\n",
       "    <tr>\n",
       "      <td id=\"T_5c92e_row4_col0\" class=\"data row4 col0\" >24.590000</td>\n",
       "      <td id=\"T_5c92e_row4_col1\" class=\"data row4 col1\" >3.610000</td>\n",
       "      <td id=\"T_5c92e_row4_col2\" class=\"data row4 col2\" >Female</td>\n",
       "      <td id=\"T_5c92e_row4_col3\" class=\"data row4 col3\" >No</td>\n",
       "      <td id=\"T_5c92e_row4_col4\" class=\"data row4 col4\" >Sunday</td>\n",
       "      <td id=\"T_5c92e_row4_col5\" class=\"data row4 col5\" >Dinner</td>\n",
       "      <td id=\"T_5c92e_row4_col6\" class=\"data row4 col6\" >4</td>\n",
       "    </tr>\n",
       "  </tbody>\n",
       "</table>\n"
      ],
      "text/plain": [
       "<pandas.io.formats.style.Styler at 0x9af9208>"
      ]
     },
     "execution_count": 12,
     "metadata": {},
     "output_type": "execute_result"
    }
   ],
   "source": [
    "data.head(5).style.set_table_styles(cfg_tables).hide_index()"
   ]
  }
 ],
 "metadata": {
  "kernelspec": {
   "display_name": "Python 3 (ipykernel)",
   "language": "python",
   "name": "python3"
  },
  "language_info": {
   "codemirror_mode": {
    "name": "ipython",
    "version": 3
   },
   "file_extension": ".py",
   "mimetype": "text/x-python",
   "name": "python",
   "nbconvert_exporter": "python",
   "pygments_lexer": "ipython3",
   "version": "3.7.4"
  }
 },
 "nbformat": 4,
 "nbformat_minor": 4
}
